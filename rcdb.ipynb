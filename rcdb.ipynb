{
 "cells": [
  {
   "cell_type": "code",
   "execution_count": null,
   "metadata": {},
   "outputs": [],
   "source": [
    "import requests\n",
    "\n",
    "# rcdb search for all coasters in orlando\n",
    "url = 'https://rcdb.com/r.htm?ot=2&ex&ol=3600'\n",
    "\n",
    "resp = requests.get(url)\n",
    "resp.raise_for_status()"
   ]
  },
  {
   "cell_type": "code",
   "execution_count": null,
   "metadata": {},
   "outputs": [],
   "source": [
    "from bs4 import BeautifulSoup\n",
    "import pandas as pd\n",
    "\n",
    "soup = BeautifulSoup(resp.text, 'lxml')\n",
    "table_headers = [str(el.text).strip().upper() for el in soup.find('thead').find_all('th')]\n",
    "table_rows = []\n",
    "for row in soup.find('tbody').find_all('tr'):\n",
    "    text_values = [el.find('time')['datetime'] if el.find('time') else el.text for el in row.find_all('td')]\n",
    "    table_rows.append(text_values)\n",
    "\n",
    "rcdb_df = pd.DataFrame(table_rows, columns=table_headers).drop([''], axis=1)"
   ]
  },
  {
   "cell_type": "code",
   "execution_count": null,
   "metadata": {},
   "outputs": [],
   "source": [
    "res_df = rcdb_df.loc[rcdb_df['STATUS'].str.lower() == 'operating'][['ROLLER COASTER', 'AMUSEMENT PARK']]\n",
    "print(res_df.to_markdown(index=False))"
   ]
  }
 ],
 "metadata": {
  "kernelspec": {
   "display_name": "thesis-tools-wOCecJBM-py3.11",
   "language": "python",
   "name": "python3"
  },
  "language_info": {
   "codemirror_mode": {
    "name": "ipython",
    "version": 3
   },
   "file_extension": ".py",
   "mimetype": "text/x-python",
   "name": "python",
   "nbconvert_exporter": "python",
   "pygments_lexer": "ipython3",
   "version": "3.11.7"
  }
 },
 "nbformat": 4,
 "nbformat_minor": 2
}
